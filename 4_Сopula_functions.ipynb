{
 "cells": [
  {
   "cell_type": "code",
   "execution_count": 52,
   "metadata": {
    "collapsed": true,
    "pycharm": {
     "name": "#%%\n"
    }
   },
   "outputs": [],
   "source": [
    "# Import libraries\n",
    "\n",
    "import pandas as pd\n",
    "import warnings\n",
    "import pyvinecopulib as pv\n",
    "import numpy as np\n",
    "\n",
    "warnings.filterwarnings('ignore')"
   ]
  },
  {
   "cell_type": "code",
   "execution_count": 53,
   "outputs": [],
   "source": [
    "data = pd.read_csv('data.csv')"
   ],
   "metadata": {
    "collapsed": false,
    "pycharm": {
     "name": "#%%\n"
    }
   }
  },
  {
   "cell_type": "code",
   "execution_count": 54,
   "outputs": [],
   "source": [
    "controls = pv.FitControlsVinecop(family_set=[pv.BicopFamily.bb1])\n",
    "from scipy.stats import norm\n",
    "rv = norm(0,1)\n",
    "sp1_norm = []\n",
    "sp2_norm = []\n",
    "sp3_norm = []\n",
    "sp1 = data['E-MINI var'].tolist()\n",
    "sp2 = data['FTSE var'].tolist()\n",
    "sp3 = data['TREASURY var'].tolist()\n",
    "for i in range(len(sp2)):\n",
    "    sp1_norm.append(rv.cdf(sp1[i]))\n",
    "    sp2_norm.append(rv.cdf(sp2[i]))\n",
    "    sp3_norm.append(rv.cdf(sp3[i]))\n",
    "\n",
    "data['E-MINI prob'] = sp1_norm\n",
    "data['FTSE prob'] = sp2_norm\n",
    "data['TREASURY prob'] = sp3_norm"
   ],
   "metadata": {
    "collapsed": false,
    "pycharm": {
     "name": "#%%\n"
    }
   }
  },
  {
   "cell_type": "code",
   "execution_count": 55,
   "outputs": [
    {
     "name": "stdout",
     "output_type": "stream",
     "text": [
      "AIC = -8064757.211471942\n",
      "<pyvinecopulib.Vinecop>\n",
      "** Tree: 0\n",
      "3,1 <-> BB1 270°, parameters = 7\n",
      "7\n",
      "2,1 <-> BB1 180°, parameters = 7\n",
      "7\n",
      "** Tree: 1\n",
      "3,2 | 1 <-> BB1 270°, parameters = 7\n",
      "7\n",
      "\n"
     ]
    }
   ],
   "source": [
    "bicop = pv.Bicop(pv.BicopFamily.bb1)\n",
    "\n",
    "pcs = [[bicop, bicop], [bicop]]\n",
    "mat = np.array([[1, 1, 1], [2, 2, 0], [3, 0, 0]])\n",
    "\n",
    "\n",
    "df = data[['E-MINI prob','FTSE prob','TREASURY prob']]\n",
    "u = df.to_numpy()\n",
    "\n",
    "cop2 = pv.Vinecop(data=u, matrix=mat, controls=controls)\n",
    "print('AIC = '+ str(cop2.aic()))\n",
    "print(cop2)"
   ],
   "metadata": {
    "collapsed": false,
    "pycharm": {
     "name": "#%%\n"
    }
   }
  },
  {
   "cell_type": "code",
   "execution_count": 56,
   "outputs": [
    {
     "name": "stdout",
     "output_type": "stream",
     "text": [
      "AIC = -5838842.562968178\n",
      "<pyvinecopulib.Vinecop>\n",
      "** Tree: 0\n",
      "3,2 <-> BB1 90°, parameters = 7\n",
      "7\n",
      "1,2 <-> BB1 180°, parameters = 7\n",
      "7\n",
      "** Tree: 1\n",
      "3,1 | 2 <-> BB1 270°, parameters =   1e-06\n",
      "3.95765\n",
      "\n"
     ]
    }
   ],
   "source": [
    "\n",
    "bicop = pv.Bicop(pv.BicopFamily.bb1)\n",
    "\n",
    "pcs = [[bicop, bicop], [bicop]]\n",
    "mat = np.array([[2, 2, 2], [1, 1, 0], [3, 0, 0]])\n",
    "\n",
    "\n",
    "df = data[['E-MINI prob','FTSE prob','TREASURY prob']]\n",
    "u = df.to_numpy()\n",
    "\n",
    "cop3 = pv.Vinecop(data=u, matrix=mat, controls=controls)\n",
    "print('AIC = '+ str(cop3.aic()))\n",
    "print(cop3)"
   ],
   "metadata": {
    "collapsed": false,
    "pycharm": {
     "name": "#%%\n"
    }
   }
  },
  {
   "cell_type": "code",
   "execution_count": 57,
   "outputs": [
    {
     "name": "stdout",
     "output_type": "stream",
     "text": [
      "AIC = -5838614.422711625\n",
      "<pyvinecopulib.Vinecop>\n",
      "** Tree: 0\n",
      "2,3 <-> BB1 270°, parameters = 7\n",
      "7\n",
      "1,3 <-> BB1 90°, parameters = 7\n",
      "7\n",
      "** Tree: 1\n",
      "2,1 | 3 <-> BB1 180°, parameters =   1e-06\n",
      "3.95637\n",
      "\n"
     ]
    }
   ],
   "source": [
    "# Specify pair-copulas\n",
    "bicop = pv.Bicop(pv.BicopFamily.bb1)\n",
    "pcs = [[bicop, bicop], [bicop]]\n",
    "\n",
    "# Specify R-vine matrix\n",
    "mat = np.array([[3, 3, 3], [1, 1, 0], [2, 0, 0]])\n",
    "\n",
    "\n",
    "df = data[['E-MINI prob','FTSE prob','TREASURY prob']]\n",
    "u = df.to_numpy()\n",
    "\n",
    "cop4 = pv.Vinecop(data=u, matrix=mat, controls=controls)\n",
    "print('AIC = '+ str(cop4.aic()))\n",
    "print(cop4)"
   ],
   "metadata": {
    "collapsed": false,
    "pycharm": {
     "name": "#%%\n"
    }
   }
  },
  {
   "cell_type": "code",
   "execution_count": null,
   "outputs": [],
   "source": [],
   "metadata": {
    "collapsed": false,
    "pycharm": {
     "name": "#%%\n"
    }
   }
  }
 ],
 "metadata": {
  "kernelspec": {
   "display_name": "Python 3",
   "language": "python",
   "name": "python3"
  },
  "language_info": {
   "codemirror_mode": {
    "name": "ipython",
    "version": 2
   },
   "file_extension": ".py",
   "mimetype": "text/x-python",
   "name": "python",
   "nbconvert_exporter": "python",
   "pygments_lexer": "ipython2",
   "version": "2.7.6"
  }
 },
 "nbformat": 4,
 "nbformat_minor": 0
}