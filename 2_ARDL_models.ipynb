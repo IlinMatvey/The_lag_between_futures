{
 "cells": [
  {
   "cell_type": "code",
   "execution_count": 14,
   "metadata": {
    "collapsed": true,
    "pycharm": {
     "name": "#%%\n"
    }
   },
   "outputs": [],
   "source": [
    "# Import libraries\n",
    "\n",
    "import pandas as pd\n",
    "from statsmodels.tsa.api import ARDL\n",
    "from statsmodels.tsa.ardl import ardl_select_order"
   ]
  },
  {
   "cell_type": "code",
   "execution_count": 15,
   "outputs": [],
   "source": [
    "data = pd.read_csv('data.csv')"
   ],
   "metadata": {
    "collapsed": false,
    "pycharm": {
     "name": "#%%\n"
    }
   }
  },
  {
   "cell_type": "code",
   "execution_count": 18,
   "outputs": [
    {
     "name": "stdout",
     "output_type": "stream",
     "text": [
      "The optimal order is: (4, 10)\n",
      "The optimal order is: (4, 8)\n",
      "The optimal order is: (4, 10, 7)\n",
      "The optimal order is: (9, 9)\n",
      "The optimal order is: (9, 8)\n",
      "The optimal order is: (9, 10, 8)\n",
      "The optimal order is: (10, 10)\n",
      "The optimal order is: (10, 10)\n",
      "The optimal order is: (10, 10, 10)\n"
     ]
    }
   ],
   "source": [
    "sp1 = ['E-MINI var','E-MINI var','E-MINI var',\"FTSE var\",\"FTSE var\",\"FTSE var\",\"TREASURY var\",\"TREASURY var\",\"TREASURY var\"]\n",
    "sp2 = [[\"FTSE var\"],[\"TREASURY var\"],[\"FTSE var\", \"TREASURY var\"],[\"TREASURY var\"],['E-MINI var'],[\"TREASURY var\",'E-MINI var'],['E-MINI var'],[\"FTSE var\"],['E-MINI var',\"FTSE var\"]]\n",
    "param = []\n",
    "for k in range(len(sp1)):\n",
    "    sel_res = ardl_select_order(data[sp1[k]], 10, data[sp2[k]], 10, ic=\"aic\", trend=\"c\")\n",
    "    print(f\"The optimal order is: {sel_res.model.ardl_order}\")\n",
    "    param.append(list(sel_res.model.ardl_order))"
   ],
   "metadata": {
    "collapsed": false,
    "pycharm": {
     "name": "#%%\n"
    }
   }
  },
  {
   "cell_type": "code",
   "execution_count": 20,
   "outputs": [
    {
     "name": "stdout",
     "output_type": "stream",
     "text": [
      "Model №0  AIC = -2162644.8196815676\n",
      "Model №1  AIC = -2110530.4929715046\n",
      "Model №2  AIC = -2170553.045366913\n",
      "Model №3  AIC = -8325635.885554879\n",
      "Model №4  AIC = -8384989.628805071\n",
      "Model №5  AIC = -8385582.619996358\n",
      "Model №6  AIC = -6634082.724736119\n",
      "Model №7  AIC = -6626179.090077225\n",
      "Model №8  AIC = -6634508.023699978\n",
      "Best model: FTSE var ~ TREASURY var + E-MINI var  AIC = -8385582.619996358\n"
     ]
    }
   ],
   "source": [
    "min_aic = 0\n",
    "b=0\n",
    "for i in range(len(param)):\n",
    "    if len(param[i]) == 3:\n",
    "\n",
    "        res = ARDL(data[sp1[i]], param[i][0], data[sp2[i]], {sp2[i][0]: param[i][1],sp2[i][1]: param[i][2]}, trend=\"c\").fit()\n",
    "        check = res.aic\n",
    "        if check < min_aic:\n",
    "            min_aic = check\n",
    "            b=i\n",
    "    else:\n",
    "\n",
    "        res = ARDL(data[sp1[i]], param[i][0], data[sp2[i]], {sp2[i][0]: param[i][1]}, trend=\"c\").fit()\n",
    "        check = res.aic\n",
    "        if check < min_aic:\n",
    "            min_aic = check\n",
    "            b=i\n",
    "    print('Model №'+str(i) + \"  AIC = \" + str(check))\n",
    "if len(sp2[b]) ==2:\n",
    "    print('Best model: ' + sp1[b] + ' ~ ' + sp2[b][0] + ' + ' + sp2[b][1] + '  AIC = '+str(min_aic) )\n",
    "else:\n",
    "    print('Best model: ' + sp1[b] + ' ~ ' + sp2[b][0] + '  AIC = '+str(min_aic) )"
   ],
   "metadata": {
    "collapsed": false,
    "pycharm": {
     "name": "#%%\n"
    }
   }
  },
  {
   "cell_type": "code",
   "execution_count": 28,
   "outputs": [
    {
     "name": "stdout",
     "output_type": "stream",
     "text": [
      "                              ARDL Model Results                              \n",
      "==============================================================================\n",
      "Dep. Variable:               FTSE var   No. Observations:               428976\n",
      "Model:                 ARDL(9, 10, 8)   Log Likelihood             4192822.310\n",
      "Method:               Conditional MLE   S.D. of innovations              0.000\n",
      "Date:                Tue, 26 Apr 2022   AIC                       -8385582.620\n",
      "Time:                        21:03:58   BIC                       -8385242.577\n",
      "Sample:                            10   HQIC                      -8385485.741\n",
      "                               428976                                         \n",
      "====================================================================================\n",
      "                       coef    std err          z      P>|z|      [0.025      0.975]\n",
      "------------------------------------------------------------------------------------\n",
      "const            -2.314e-08    2.1e-08     -1.101      0.271   -6.43e-08    1.81e-08\n",
      "FTSE var.L1         -0.0201      0.002    -13.169      0.000      -0.023      -0.017\n",
      "FTSE var.L2         -0.0039      0.002     -2.548      0.011      -0.007      -0.001\n",
      "FTSE var.L3         -0.0051      0.002     -3.317      0.001      -0.008      -0.002\n",
      "FTSE var.L4         -0.0089      0.002     -5.828      0.000      -0.012      -0.006\n",
      "FTSE var.L5         -0.0025      0.002     -1.623      0.105      -0.005       0.001\n",
      "FTSE var.L6          0.0097      0.002      6.348      0.000       0.007       0.013\n",
      "FTSE var.L7         -0.0085      0.002     -5.583      0.000      -0.012      -0.006\n",
      "FTSE var.L8          0.0068      0.002      4.476      0.000       0.004       0.010\n",
      "FTSE var.L9          0.0067      0.001      4.673      0.000       0.004       0.009\n",
      "TREASURY var.L0     -0.0037      0.000    -18.660      0.000      -0.004      -0.003\n",
      "TREASURY var.L1     -0.0014      0.000     -7.168      0.000      -0.002      -0.001\n",
      "TREASURY var.L2      0.0003      0.000      1.496      0.135   -9.35e-05       0.001\n",
      "TREASURY var.L3      0.0004      0.000      2.147      0.032    3.78e-05       0.001\n",
      "TREASURY var.L4      0.0004      0.000      2.059      0.040    1.99e-05       0.001\n",
      "TREASURY var.L5      0.0006      0.000      2.937      0.003       0.000       0.001\n",
      "TREASURY var.L6     -0.0020      0.000     -9.848      0.000      -0.002      -0.002\n",
      "TREASURY var.L7      0.0014      0.000      6.754      0.000       0.001       0.002\n",
      "TREASURY var.L8      0.0015      0.000      7.223      0.000       0.001       0.002\n",
      "TREASURY var.L9      0.0005      0.000      2.490      0.013       0.000       0.001\n",
      "TREASURY var.L10     0.0003      0.000      1.576      0.115   -7.53e-05       0.001\n",
      "E-MINI var.L0        0.0003   1.02e-06    253.270      0.000       0.000       0.000\n",
      "E-MINI var.L1     1.712e-05   1.09e-06     15.682      0.000     1.5e-05    1.93e-05\n",
      "E-MINI var.L2    -4.832e-06   1.09e-06     -4.426      0.000   -6.97e-06   -2.69e-06\n",
      "E-MINI var.L3     3.453e-06   1.09e-06      3.163      0.002    1.31e-06    5.59e-06\n",
      "E-MINI var.L4     3.129e-06   1.09e-06      2.865      0.004    9.88e-07    5.27e-06\n",
      "E-MINI var.L5     -4.03e-07   1.09e-06     -0.369      0.712   -2.54e-06    1.74e-06\n",
      "E-MINI var.L6    -3.026e-06   1.09e-06     -2.771      0.006   -5.17e-06   -8.86e-07\n",
      "E-MINI var.L7     2.593e-06   1.09e-06      2.375      0.018    4.53e-07    4.73e-06\n",
      "E-MINI var.L8    -1.688e-06   1.09e-06     -1.547      0.122   -3.83e-06     4.5e-07\n",
      "====================================================================================\n"
     ]
    }
   ],
   "source": [
    "# Best model\n",
    "\n",
    "res = ARDL(data[sp1[5]], param[5][0], data[sp2[5]], {sp2[5][0]: param[5][1],sp2[5][1]: param[5][2]}, trend=\"c\").fit()\n",
    "print(res.summary())"
   ],
   "metadata": {
    "collapsed": false,
    "pycharm": {
     "name": "#%%\n"
    }
   }
  },
  {
   "cell_type": "code",
   "execution_count": 22,
   "outputs": [
    {
     "name": "stdout",
     "output_type": "stream",
     "text": [
      "p = 1  AIC: -2099796.437184755\n",
      "p = 2  AIC: -2099891.5941642593\n",
      "p = 3  AIC: -2099891.6758297775\n",
      "p = 4  AIC: -2099936.165548868\n",
      "p = 5  AIC: -2099936.823267348\n",
      "p = 6  AIC: -2099935.733618816\n",
      "p = 7  AIC: -2099934.6850729445\n",
      "p = 8  AIC: -2099938.8465663088\n",
      "p = 9  AIC: -2099938.6463982477\n",
      "p = 10  AIC: -2099943.088310487\n",
      "Наименьший AIC: -2099943.088310487  p = 10\n"
     ]
    }
   ],
   "source": [
    "# Ручной подбор лагов с помощью AR\n",
    "\n",
    "import warnings\n",
    "from statsmodels.tsa.arima.model import ARIMA\n",
    "warnings.filterwarnings('ignore')\n",
    "min_aic= 0\n",
    "p=0\n",
    "for i in range(1,11):\n",
    "    model = ARIMA(data['E-MINI var'], order=(i, 0, 0))\n",
    "    model_fit = model.fit()\n",
    "    aic = model_fit.aic\n",
    "    str1 = 'p = '+str(i)+'  AIC: ' + str(aic)\n",
    "    if aic < min_aic:\n",
    "        min_aic = aic\n",
    "        p = i\n",
    "    print(str1)\n",
    "print('Наименьший E-MINI AIC: ' + str(min_aic) + \"  p = \"+str(p))"
   ],
   "metadata": {
    "collapsed": false,
    "pycharm": {
     "name": "#%%\n"
    }
   }
  },
  {
   "cell_type": "markdown",
   "source": [],
   "metadata": {
    "collapsed": false,
    "pycharm": {
     "name": "#%% md\n"
    }
   }
  },
  {
   "cell_type": "code",
   "execution_count": 23,
   "outputs": [
    {
     "name": "stdout",
     "output_type": "stream",
     "text": [
      "p = 1  AIC: -8322307.88797823\n",
      "p = 2  AIC: -8322335.154492384\n",
      "p = 3  AIC: -8322340.260506065\n",
      "p = 4  AIC: -8322388.145544998\n",
      "p = 5  AIC: -8322401.196347332\n",
      "p = 6  AIC: -8322444.47608064\n",
      "p = 7  AIC: -8322468.324630486\n",
      "p = 8  AIC: -8322478.909302002\n",
      "p = 9  AIC: -8322495.247322613\n",
      "p = 10  AIC: -8322493.442545184\n",
      "Наименьший FTSE AIC: -8322495.247322613  p= 9\n"
     ]
    }
   ],
   "source": [
    "min_aic = 0\n",
    "p=0\n",
    "for i in range(1,11):\n",
    "    model = ARIMA(data['FTSE var'], order=(i, 0, 0))\n",
    "    model_fit = model.fit()\n",
    "    aic = model_fit.aic\n",
    "    str1 = 'p = '+str(i)+'  AIC: ' + str(aic)\n",
    "    if aic < min_aic:\n",
    "        min_aic = aic\n",
    "        p = i\n",
    "    print(str1)\n",
    "print('Наименьший FTSE AIC: ' + str(min_aic) + \"  p= \"+str(p))"
   ],
   "metadata": {
    "collapsed": false,
    "pycharm": {
     "name": "#%%\n"
    }
   }
  },
  {
   "cell_type": "code",
   "execution_count": 24,
   "outputs": [
    {
     "name": "stdout",
     "output_type": "stream",
     "text": [
      "p = 1  AIC: -6621587.385934435\n",
      "p = 2  AIC: -6621977.53549008\n",
      "p = 3  AIC: -6622491.1277971035\n",
      "p = 4  AIC: -6622646.115991382\n",
      "p = 5  AIC: -6622893.389123309\n",
      "p = 6  AIC: -6622935.046377009\n",
      "p = 7  AIC: -6622968.697496264\n",
      "p = 8  AIC: -6622998.434090967\n",
      "p = 9  AIC: -6623062.462043968\n",
      "p = 10  AIC: -6623064.7506114235\n",
      "Наименьший TREASURY AIC: -6623064.7506114235  p= 10\n"
     ]
    }
   ],
   "source": [
    "min_aic = 0\n",
    "p=0\n",
    "for i in range(1,11):\n",
    "    model = ARIMA(data['TREASURY var'], order=(i, 0, 0))\n",
    "    model_fit = model.fit()\n",
    "    aic = model_fit.aic\n",
    "    str1 = 'p = '+str(i)+'  AIC: ' + str(aic)\n",
    "    if aic < min_aic:\n",
    "        min_aic = aic\n",
    "        p = i\n",
    "    print(str1)\n",
    "print('Наименьший TREASURY AIC: ' + str(min_aic) + \"  p= \"+str(p))"
   ],
   "metadata": {
    "collapsed": false,
    "pycharm": {
     "name": "#%%\n"
    }
   }
  },
  {
   "cell_type": "code",
   "execution_count": 25,
   "outputs": [
    {
     "name": "stdout",
     "output_type": "stream",
     "text": [
      "Model №0  AIC = -2162644.8196815676\n",
      "Model №1  AIC = -2110530.4929715046\n",
      "Model №2  AIC = -2170506.4768531686\n",
      "Model №3  AIC = -8325635.885554879\n",
      "Model №4  AIC = -8384989.628805071\n",
      "Model №5  AIC = -8385578.67055131\n",
      "Model №6  AIC = -6634082.724736119\n",
      "Model №7  AIC = -6626179.090077225\n",
      "Model №8  AIC = -6634498.179647481\n",
      "Best model: FTSE var ~ TREASURY var + E-MINI var  AIC = -8385578.67055131\n"
     ]
    }
   ],
   "source": [
    "min_aic = 0\n",
    "b=0\n",
    "param1 = [[10,9],[10,10],[10,9,10],[9,10],[9,10],[9,10,10],[10,10],[10,9],[10,10,9]]\n",
    "for i in range(len(param)):\n",
    "    if len(param[i]) == 3:\n",
    "\n",
    "        res = ARDL(data[sp1[i]], param1[i][0], data[sp2[i]], {sp2[i][0]: param1[i][1],sp2[i][1]: param1[i][2]}, trend=\"c\").fit()\n",
    "        check = res.aic\n",
    "        if check < min_aic:\n",
    "            min_aic = check\n",
    "            b=i\n",
    "    else:\n",
    "\n",
    "        res = ARDL(data[sp1[i]], param[i][0], data[sp2[i]], {sp2[i][0]: param[i][1]}, trend=\"c\").fit()\n",
    "        check = res.aic\n",
    "        if check < min_aic:\n",
    "            min_aic = check\n",
    "            b=i\n",
    "    print('Model №'+str(i) + \"  AIC = \" + str(check))\n",
    "if len(sp2[b]) ==2:\n",
    "    print('Best model: ' + sp1[b] + ' ~ ' + sp2[b][0] + ' + ' + sp2[b][1] + '  AIC = '+str(min_aic) )\n",
    "else:\n",
    "    print('Best model: ' + sp1[b] + ' ~ ' + sp2[b][0] + '  AIC = '+str(min_aic) )"
   ],
   "metadata": {
    "collapsed": false,
    "pycharm": {
     "name": "#%%\n"
    }
   }
  }
 ],
 "metadata": {
  "kernelspec": {
   "display_name": "Python 3",
   "language": "python",
   "name": "python3"
  },
  "language_info": {
   "codemirror_mode": {
    "name": "ipython",
    "version": 2
   },
   "file_extension": ".py",
   "mimetype": "text/x-python",
   "name": "python",
   "nbconvert_exporter": "python",
   "pygments_lexer": "ipython2",
   "version": "2.7.6"
  }
 },
 "nbformat": 4,
 "nbformat_minor": 0
}